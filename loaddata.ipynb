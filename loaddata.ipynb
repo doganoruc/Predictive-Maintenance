{
 "cells": [
  {
   "cell_type": "code",
   "execution_count": 34,
   "metadata": {},
   "outputs": [],
   "source": [
    "import os\n",
    "import pandas as pd\n",
    "\n",
    "\n",
    "def load_data(path, col_names=None, n_data_sets=4):\n",
    "    if col_names is None:\n",
    "        col_names = [\"unit_num\", \"cycle_time\", \"os1\", \"os2\", \"os3\"]\n",
    "        col_names += [\"sensor_{0:02d}\".format(j+1) for j in range(0,26)]\n",
    "        \n",
    "    df = {}\n",
    "    \n",
    "    \n",
    "    for i in range(n_data_sets):\n",
    "        p = os.path.join(path, 'train_FD00{}.txt'.format(i+1))\n",
    "        df_train = pd.read_csv(p, sep= ' ', header=None, names=col_names, index_col=False)\n",
    "        \n",
    "        p = os.path.join(path, 'test_FD00{}.txt'.format(i+1))\n",
    "        df_test = pd.read_csv(p, sep= ' ', header=None, names=col_names, index_col=False)\n",
    "        \n",
    "        p = os.path.join(path, 'RUL_FD00{}.txt'.format(i+1))\n",
    "        df_RUL = pd.read_csv(p, sep= ' ', header=None, names=['RUL_actual'], index_col=False)\n",
    "        \n",
    "        s = 'FD_00{}'.format(i+1)\n",
    "        \n",
    "        df[s] = {'df_train': df_train, 'df_test': df_test, 'df_RUL': df_RUL}\n",
    "        \n",
    "    return df"
   ]
  }
 ],
 "metadata": {
  "kernelspec": {
   "display_name": "Python 3",
   "language": "python",
   "name": "python3"
  },
  "language_info": {
   "codemirror_mode": {
    "name": "ipython",
    "version": 3
   },
   "file_extension": ".py",
   "mimetype": "text/x-python",
   "name": "python",
   "nbconvert_exporter": "python",
   "pygments_lexer": "ipython3",
   "version": "3.7.6"
  }
 },
 "nbformat": 4,
 "nbformat_minor": 4
}
